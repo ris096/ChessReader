{
 "cells": [
  {
   "cell_type": "markdown",
   "id": "0cb64d8d",
   "metadata": {},
   "source": [
    "### Importing all required libraries"
   ]
  },
  {
   "cell_type": "code",
   "execution_count": 306,
   "id": "18a43332",
   "metadata": {},
   "outputs": [],
   "source": [
    "import random\n",
    "import numpy as np\n",
    "import io\n",
    "\n",
    "from selenium import webdriver\n",
    "from selenium.webdriver.chrome.service import Service\n",
    "from selenium.webdriver.chrome.options import Options\n",
    "from selenium.webdriver.support.ui import WebDriverWait\n",
    "from selenium.webdriver.common.by import By\n",
    "from selenium.webdriver.support import expected_conditions as EC\n",
    "from PIL import Image \n",
    "import time\n",
    "\n",
    "import tensorflow as tf\n",
    "from tensorflow import keras\n",
    "from sklearn.model_selection import train_test_split\n",
    "from sklearn.preprocessing import LabelEncoder\n",
    "\n",
    "import glob\n",
    "import os\n",
    "\n",
    "from IPython.display import display"
   ]
  },
  {
   "cell_type": "markdown",
   "id": "ff402a08",
   "metadata": {},
   "source": [
    "# Dataset generation"
   ]
  },
  {
   "cell_type": "markdown",
   "id": "2e7f513b",
   "metadata": {},
   "source": [
    "### Creating a random chess board position generator"
   ]
  },
  {
   "cell_type": "code",
   "execution_count": 307,
   "id": "d1ce4953",
   "metadata": {},
   "outputs": [],
   "source": [
    "# Places both white and black kings at randon non-intersecting positions on the board\n",
    "def place_kings(brd):\n",
    "    while True:\n",
    "        rank_white, file_white, rank_black, file_black = random.randint(0,7), random.randint(0,7), random.randint(0,7), random.randint(0,7)\n",
    "        diff_list = [abs(rank_white - rank_black),  abs(file_white - file_black)]\n",
    "        if sum(diff_list) > 2 or set(diff_list) == set([0, 2]):\n",
    "            brd[rank_white][file_white], brd[rank_black][file_black] = \"K\", \"k\"\n",
    "            break\n",
    "\n",
    "# Places the rest of the pieces on the board\n",
    "def populate_board(brd, wp, bp):\n",
    "    for x in range(2):\n",
    "        if x == 0:\n",
    "            piece_amount = wp\n",
    "            pieces = piece_list\n",
    "        else:\n",
    "            piece_amount = bp\n",
    "            pieces = [s.lower() for s in piece_list]\n",
    "        while piece_amount != 0:\n",
    "            piece_rank, piece_file = random.randint(0, 7), random.randint(0, 7)\n",
    "            piece = random.choice(pieces)\n",
    "            if brd[piece_rank][piece_file] == \" \" and pawn_on_promotion_square(piece, piece_rank) == False:\n",
    "                brd[piece_rank][piece_file] = piece\n",
    "                piece_amount -= 1\n",
    "\n",
    "# Gives the board position in FEN notation\n",
    "def fen_from_board(brd):\n",
    "    fen = \"\"\n",
    "    for x in brd:\n",
    "        n = 0\n",
    "        for y in x:\n",
    "            if y == \" \":\n",
    "                n += 1\n",
    "            else:\n",
    "                if n != 0:\n",
    "                    fen += str(n)\n",
    "                fen += y\n",
    "                n = 0\n",
    "        if n != 0:\n",
    "            fen += str(n)\n",
    "        fen += \"/\" if fen.count(\"/\") < 7 else \"\"\n",
    "    fen += \" w - - 0 1\"\n",
    "    return fen\n",
    "\n",
    "# Converts the FEN position of the board to a unique string which identifies each square and can be used as file name\n",
    "def new_ntn_from_fen(fen):\n",
    "    new_ntn = ''\n",
    "    for i in fen:\n",
    "        if i == ' ':\n",
    "            break\n",
    "        elif i in ['1','2','3','4','5','6','7','8']:\n",
    "            for j in range(int(i)):\n",
    "                new_ntn = new_ntn + '1'\n",
    "        elif i=='/':\n",
    "            new_ntn = new_ntn + '-'\n",
    "        else:\n",
    "            new_ntn = new_ntn + i\n",
    "    return new_ntn\n",
    "    \n",
    "    \n",
    "# Checks whether the piece being placed on the board isn't a Pawn on a promotion square, i.e. the last rank for white and \n",
    "# the first rank for black \n",
    "def pawn_on_promotion_square(pc, pr):\n",
    "    if pc == \"P\" and pr == 0:\n",
    "        return True\n",
    "    elif pc == \"p\" and pr == 7:\n",
    "        return True\n",
    "    return False\n",
    "\n",
    "# Random board generator which returns a randomly generated chess board's FEN position \n",
    "# and the new notation for the image name\n",
    "def random_board():\n",
    "    board = [[\" \" for x in range(8)] for y in range(8)]\n",
    "    piece_list = [\"R\", \"N\", \"B\", \"Q\", \"P\"]\n",
    "    piece_amount_white, piece_amount_black = random.randint(0, 15), random.randint(0, 15)\n",
    "    place_kings(board)\n",
    "    populate_board(board, piece_amount_white, piece_amount_black)\n",
    "    fen_board = fen_from_board(board)\n",
    "    new_nt = new_ntn_from_fen(fen_board)\n",
    "    return fen_board, new_nt\n"
   ]
  },
  {
   "cell_type": "markdown",
   "id": "3da8ec07",
   "metadata": {},
   "source": [
    "### Automated Chess Board Screenshot Generation using Selenium WebDriver"
   ]
  },
  {
   "cell_type": "code",
   "execution_count": 8,
   "id": "ed5d8b8f",
   "metadata": {},
   "outputs": [],
   "source": [
    "options = Options()\n",
    "options.add_argument(\"start-maximized\")\n",
    "\n",
    "# Creating a Webdriver instance \n",
    "webdriver_service = Service(r'C:\\Users\\ris09\\Desktop\\ChessReader\\chromedriver_win32\\chromedriver.exe')\n",
    "driver = webdriver.Chrome(options=options, service=webdriver_service)\n",
    "\n",
    "''' \n",
    "Loop to capture screenshots for each randomly generated chessboard using Lichess url and cropping the image to \n",
    "save only the chessboard image.\n",
    "For each loop a new random chessboard is generated, it's image is created, cropped and saved\n",
    "'''\n",
    "for i in range(2):   \n",
    "    name, fen = random_board()\n",
    "    url = 'https://lichess.org/editor/'+fen\n",
    "    driver.get(url)\n",
    "    driver.save_screenshot(name+\".png\")\n",
    "\n",
    "    im=Image.open(name+\".png\")\n",
    "    im = im.crop((472, 219, 1289, 1036))\n",
    "    im.save(name+'.png')"
   ]
  },
  {
   "cell_type": "markdown",
   "id": "c6b4b74b",
   "metadata": {},
   "source": [
    "# Data Preprocessing"
   ]
  },
  {
   "cell_type": "markdown",
   "id": "88d152aa",
   "metadata": {},
   "source": [
    "### Preparing inputs"
   ]
  },
  {
   "cell_type": "code",
   "execution_count": 308,
   "id": "9fa32b14",
   "metadata": {
    "scrolled": false
   },
   "outputs": [
    {
     "data": {
      "image/png": "[encoded data removed]",
      "text/plain": [
       "<PIL.PngImagePlugin.PngImageFile image mode=RGBA size=817x817>"
      ]
     },
     "metadata": {},
     "output_type": "display_data"
    }
   ],
   "source": [
    "imgs_path = 'C:/Users/ris09/Desktop/ChessReader/geckodriver-v0.32.0-win32/self_dataset/*.png'\n",
    "imgs = glob.glob(imgs_path)\n",
    "\n",
    "im = Image.open(imgs[100])\n",
    "display(im)"
   ]
  },
  {
   "cell_type": "markdown",
   "id": "b787cbac",
   "metadata": {},
   "source": [
    "### Split all chessboard images into 64 squares and save the squares with corresponding labels for model training"
   ]
  },
  {
   "cell_type": "code",
   "execution_count": 78,
   "id": "54991e20",
   "metadata": {},
   "outputs": [],
   "source": [
    "for a in imgs[:10]:\n",
    "    im = Image.open(a)\n",
    "    im = im.resize((256,256))\n",
    "    piece_order = i[-75:-4].replace('-','')\n",
    "\n",
    "    square = []\n",
    "    square_name = []\n",
    "    sq=32\n",
    "    for row in range(8):\n",
    "        for col in range(8):\n",
    "            piece = im.crop((col*sq, row*sq, (col+1)*sq , (row+1)*sq))\n",
    "            piece_name = piece_order[8*(row)+col]\n",
    "            square.append(piece)\n",
    "            square_name.append(piece_name)\n",
    "    \n",
    "    for i in range(64):\n",
    "        directory = 'C:/Users/ris09/Desktop/ChessReader/geckodriver-v0.32.0-win32/self_dataset/squares/'\n",
    "        filename = a[-75:-4]+'_'+str(i)+'_'+square_name[i]+'.png'\n",
    "        square[i].save(directory + filename)"
   ]
  },
  {
   "cell_type": "markdown",
   "id": "c9588cf0",
   "metadata": {},
   "source": [
    "### Loading the images as arrays and splitting them into train/test datasets"
   ]
  },
  {
   "cell_type": "code",
   "execution_count": 309,
   "id": "c75bf860",
   "metadata": {
    "scrolled": true
   },
   "outputs": [],
   "source": [
    "all_im_dir = glob.glob(\"C:/Users/ris09/Desktop/ChessReader/geckodriver-v0.32.0-win32/self_dataset/squares/*.png\")\n",
    "\n",
    "images = []\n",
    "label = []\n",
    "\n",
    "for i in all_im_dir:\n",
    "    \n",
    "    image = keras.preprocessing.image.load_img(i, target_size=(32,32))\n",
    "    image_arr = keras.preprocessing.image.img_to_array(image)\n",
    "    image_arr_norm = image_arr/255.0\n",
    "    \n",
    "    image_label = i[-5]\n",
    "    \n",
    "    images.append(image_arr_norm)\n",
    "    label.append(image_label)\n",
    "    \n",
    "images = np.array(images)\n",
    "label = np.array(label)"
   ]
  },
  {
   "cell_type": "code",
   "execution_count": 310,
   "id": "e92abedb",
   "metadata": {},
   "outputs": [
    {
     "data": {
      "text/plain": [
       "((84275, 32, 32, 3), (21069, 32, 32, 3), (84275,), (21069,))"
      ]
     },
     "execution_count": 310,
     "metadata": {},
     "output_type": "execute_result"
    }
   ],
   "source": [
    "Xtrain, Xtest, ytrain, ytest = train_test_split(images, label, test_size=0.2)\n",
    "Xtrain.shape, Xtest.shape, ytrain.shape, ytest.shape"
   ]
  },
  {
   "cell_type": "code",
   "execution_count": 311,
   "id": "acb97e8b",
   "metadata": {},
   "outputs": [],
   "source": [
    "# Encoding the target variable using Label Encoding\n",
    "\n",
    "le = LabelEncoder()\n",
    "ytrain = le.fit_transform(ytrain)\n",
    "ytest = le.fit_transform(ytest)"
   ]
  },
  {
   "cell_type": "markdown",
   "id": "db0ab1d7",
   "metadata": {},
   "source": [
    "# Model building"
   ]
  },
  {
   "cell_type": "code",
   "execution_count": 300,
   "id": "1b330d4f",
   "metadata": {},
   "outputs": [],
   "source": [
    "model_1 = keras.Sequential([\n",
    "    keras.layers.Conv2D(32, (3,3), activation='relu', input_shape=(32,32,3)),\n",
    "    keras.layers.MaxPooling2D((2,2)),\n",
    "    keras.layers.Flatten(),\n",
    "    keras.layers.Dense(64, activation='relu'),\n",
    "    keras.layers.Dense(13, activation='softmax')    \n",
    "])\n",
    "model_1.compile(optimizer='adam', loss='sparse_categorical_crossentropy', metrics=['accuracy'])"
   ]
  },
  {
   "cell_type": "code",
   "execution_count": 328,
   "id": "f21d4e30",
   "metadata": {
    "scrolled": true
   },
   "outputs": [
    {
     "name": "stdout",
     "output_type": "stream",
     "text": [
      "Epoch 1/5\n",
      "2634/2634 [==============================] - 84s 30ms/step - loss: 0.0095 - accuracy: 0.9980 - val_loss: 3.9886e-06 - val_accuracy: 1.0000\n",
      "Epoch 2/5\n",
      "2634/2634 [==============================] - 79s 30ms/step - loss: 1.5423e-06 - accuracy: 1.0000 - val_loss: 3.4757e-07 - val_accuracy: 1.0000\n",
      "Epoch 3/5\n",
      "2634/2634 [==============================] - 79s 30ms/step - loss: 1.5272e-07 - accuracy: 1.0000 - val_loss: 5.3186e-08 - val_accuracy: 1.0000\n",
      "Epoch 4/5\n",
      "2634/2634 [==============================] - 78s 30ms/step - loss: 3.7766e-08 - accuracy: 1.0000 - val_loss: 6.0705e-08 - val_accuracy: 1.0000\n",
      "Epoch 5/5\n",
      "2634/2634 [==============================] - 78s 30ms/step - loss: 0.0037 - accuracy: 0.9994 - val_loss: 5.7520e-08 - val_accuracy: 1.0000\n",
      "659/659 [==============================] - 9s 13ms/step - loss: 5.7520e-08 - accuracy: 1.0000\n"
     ]
    }
   ],
   "source": [
    "model_1.fit(Xtrain, ytrain, epochs=5, batch_size=32, validation_data=(Xtest, ytest))\n",
    "loss, accuracy = model_1.evaluate(Xtest, ytest)"
   ]
  },
  {
   "cell_type": "code",
   "execution_count": 329,
   "id": "970b48c0",
   "metadata": {},
   "outputs": [
    {
     "name": "stdout",
     "output_type": "stream",
     "text": [
      "659/659 [==============================] - 9s 13ms/step - loss: 5.7520e-08 - accuracy: 1.0000\n"
     ]
    },
    {
     "data": {
      "text/plain": [
       "(5.751964948785826e-08, 1.0)"
      ]
     },
     "execution_count": 329,
     "metadata": {},
     "output_type": "execute_result"
    }
   ],
   "source": [
    "ev = model_1.evaluate(Xtest, ytest)\n",
    "ev[0], ev[1]"
   ]
  },
  {
   "cell_type": "markdown",
   "id": "64998ac4",
   "metadata": {},
   "source": [
    "### We see that the model has ~100% accuracy on validation set, which is suspicious\n",
    "### To further validate the model, we generate some new data to which the model hasn't been trained on, or seen before"
   ]
  },
  {
   "cell_type": "code",
   "execution_count": 202,
   "id": "54e9d9e5",
   "metadata": {},
   "outputs": [],
   "source": [
    "options = Options()\n",
    "options.add_argument(\"start-maximized\")\n",
    "\n",
    "webdriver_service = Service(r'C:\\Users\\ris09\\Desktop\\ChessReader\\chromedriver_win32_14\\chromedriver.exe')\n",
    "driver = webdriver.Chrome(options=options, service=webdriver_service)"
   ]
  },
  {
   "cell_type": "code",
   "execution_count": 207,
   "id": "13f0739d",
   "metadata": {},
   "outputs": [],
   "source": [
    "for i in range(100):   \n",
    "    fen, name = random_board()\n",
    "    url = 'https://lichess.org/editor/'+fen\n",
    "    driver.get(url)\n",
    "    driver.save_screenshot(f\"C:/Users/ris09/Desktop/ChessReader/geckodriver-v0.32.0-win32/new_data/{name}.png\")\n",
    "\n",
    "    im=Image.open(f\"C:/Users/ris09/Desktop/ChessReader/geckodriver-v0.32.0-win32/new_data/{name}.png\")\n",
    "    im = im.crop((476, 218, 1284, 1026))\n",
    "    im.save(f\"C:/Users/ris09/Desktop/ChessReader/geckodriver-v0.32.0-win32/new_data/{name}.png\")"
   ]
  },
  {
   "cell_type": "code",
   "execution_count": 209,
   "id": "aa202f3b",
   "metadata": {},
   "outputs": [],
   "source": [
    "# Splitting the images into 64 squares after resizing to 256x256, then saves the squares as separate images\n",
    "\n",
    "imgs_path = 'C:/Users/ris09/Desktop/ChessReader/geckodriver-v0.32.0-win32/new_data/*.png'\n",
    "imgs = glob.glob(imgs_path)\n",
    "\n",
    "for a in imgs:\n",
    "    im = Image.open(a)\n",
    "    im = im.resize((256,256))\n",
    "    piece_order = a[-75:-4].replace('-','')\n",
    "\n",
    "    square = []\n",
    "    square_name = []\n",
    "    sq=32\n",
    "    for row in range(8):\n",
    "        for col in range(8):\n",
    "            piece = im.crop((col*sq, row*sq, (col+1)*sq , (row+1)*sq))\n",
    "            piece_name = piece_order[8*(row)+col]\n",
    "            square.append(piece)\n",
    "            square_name.append(piece_name)\n",
    "    \n",
    "    for i in range(64):\n",
    "        directory = 'C:/Users/ris09/Desktop/ChessReader/geckodriver-v0.32.0-win32/new_data/squares/'\n",
    "        filename = a[-75:-4]+'_'+str(i)+'_'+square_name[i]+'.png'\n",
    "        square[i].save(directory + filename)"
   ]
  },
  {
   "cell_type": "code",
   "execution_count": 210,
   "id": "61b7e255",
   "metadata": {},
   "outputs": [],
   "source": [
    "# Preparing the images for validation\n",
    "\n",
    "Xtest_new = []\n",
    "ytest_new = []\n",
    "\n",
    "all_im_dir = glob.glob(\"C:/Users/ris09/Desktop/ChessReader/geckodriver-v0.32.0-win32/new_data/squares/*.png\")\n",
    "\n",
    "for i in all_im_dir:\n",
    "    \n",
    "    image = keras.preprocessing.image.load_img(i, target_size=(32,32))\n",
    "    image_arr = keras.preprocessing.image.img_to_array(image)\n",
    "    image_arr_norm = image_arr/255.0\n",
    "    \n",
    "    image_label = i[-5]\n",
    "    \n",
    "    Xtest_new.append(image_arr_norm)\n",
    "    ytest_new.append(image_label)\n",
    "    \n",
    "Xtest_new = np.array(Xtest_new)\n",
    "ytest_new = np.array(ytest_new)\n",
    "ytest_new = le.fit_transform(ytest_new)"
   ]
  },
  {
   "cell_type": "code",
   "execution_count": 211,
   "id": "89952b31",
   "metadata": {},
   "outputs": [
    {
     "name": "stdout",
     "output_type": "stream",
     "text": [
      "204/204 [==============================] - 3s 11ms/step - loss: 7.0744e-08 - accuracy: 1.0000\n"
     ]
    },
    {
     "data": {
      "text/plain": [
       "(7.074398666873094e-08, 1.0)"
      ]
     },
     "execution_count": 211,
     "metadata": {},
     "output_type": "execute_result"
    }
   ],
   "source": [
    "ev_new = model_1.evaluate(Xtest_new, ytest_new)\n",
    "ev_new[0], ev_new[1]"
   ]
  },
  {
   "cell_type": "markdown",
   "id": "a070493d",
   "metadata": {},
   "source": [
    "### Since the evaluation on unseen data is similar to the original performance, we can conclude that the accuarcy of the model is ~100%"
   ]
  },
  {
   "cell_type": "markdown",
   "id": "cdd81dd8",
   "metadata": {},
   "source": [
    "# Making prediction for a given image of a chessboard"
   ]
  },
  {
   "cell_type": "code",
   "execution_count": 327,
   "id": "af2e17b2",
   "metadata": {},
   "outputs": [],
   "source": [
    "def get_tiles(image):\n",
    "    image = image.resize((256, 256))\n",
    "    squares = []\n",
    "    sq = 32\n",
    "    \n",
    "    for row in range(8):\n",
    "        for column in range(8):\n",
    "            square = image.crop((column*sq, row*sq, (column+1)*sq , (row+1)*sq))   \n",
    "            squares.append(square)\n",
    "    return squares\n",
    "\n",
    "def tile_array(sqrs):\n",
    "    sq_arr = []\n",
    "    for i in sqrs:\n",
    "        a = np.asarray(i)\n",
    "        a = a/255.0\n",
    "        sq_arr.append(a)\n",
    "    return sq_arr"
   ]
  },
  {
   "cell_type": "code",
   "execution_count": 326,
   "id": "fd9d7e83",
   "metadata": {
    "scrolled": false
   },
   "outputs": [
    {
     "data": {
      "image/png": "[encoded data removed]",
      "text/plain": [
       "<PIL.Image.Image image mode=RGB size=256x256>"
      ]
     },
     "metadata": {},
     "output_type": "display_data"
    }
   ],
   "source": [
    "im_test = glob.glob(r'C:\\Users\\ris09\\Desktop\\ChessReader\\geckodriver-v0.32.0-win32\\test_image\\*.png')\n",
    "im_test = keras.preprocessing.image.load_img(im_test[0], target_size=(256,256))\n",
    "display(im_test)"
   ]
  },
  {
   "cell_type": "code",
   "execution_count": 330,
   "id": "20633e08",
   "metadata": {
    "scrolled": false
   },
   "outputs": [
    {
     "name": "stdout",
     "output_type": "stream",
     "text": [
      "1/1 [==============================] - 0s 70ms/step\n",
      "1/1 [==============================] - 0s 60ms/step\n",
      "1/1 [==============================] - 0s 53ms/step\n",
      "1/1 [==============================] - 0s 70ms/step\n",
      "1/1 [==============================] - 0s 60ms/step\n",
      "1/1 [==============================] - 0s 70ms/step\n",
      "1/1 [==============================] - 0s 61ms/step\n",
      "1/1 [==============================] - 0s 60ms/step\n",
      "1/1 [==============================] - 0s 62ms/step\n",
      "1/1 [==============================] - 0s 65ms/step\n",
      "1/1 [==============================] - 0s 58ms/step\n",
      "1/1 [==============================] - 0s 62ms/step\n",
      "1/1 [==============================] - 0s 64ms/step\n",
      "1/1 [==============================] - 0s 62ms/step\n",
      "1/1 [==============================] - 0s 67ms/step\n",
      "1/1 [==============================] - 0s 58ms/step\n",
      "1/1 [==============================] - 0s 68ms/step\n",
      "1/1 [==============================] - 0s 78ms/step\n",
      "1/1 [==============================] - 0s 62ms/step\n",
      "1/1 [==============================] - 0s 61ms/step\n",
      "1/1 [==============================] - 0s 61ms/step\n",
      "1/1 [==============================] - 0s 58ms/step\n",
      "1/1 [==============================] - 0s 55ms/step\n",
      "1/1 [==============================] - 0s 60ms/step\n",
      "1/1 [==============================] - 0s 62ms/step\n",
      "1/1 [==============================] - 0s 70ms/step\n",
      "1/1 [==============================] - 0s 84ms/step\n",
      "1/1 [==============================] - 0s 58ms/step\n",
      "1/1 [==============================] - 0s 61ms/step\n",
      "1/1 [==============================] - 0s 63ms/step\n",
      "1/1 [==============================] - 0s 62ms/step\n",
      "1/1 [==============================] - 0s 59ms/step\n",
      "1/1 [==============================] - 0s 71ms/step\n",
      "1/1 [==============================] - 0s 64ms/step\n",
      "1/1 [==============================] - 0s 63ms/step\n",
      "1/1 [==============================] - 0s 60ms/step\n",
      "1/1 [==============================] - 0s 62ms/step\n",
      "1/1 [==============================] - 0s 66ms/step\n",
      "1/1 [==============================] - 0s 58ms/step\n",
      "1/1 [==============================] - 0s 67ms/step\n",
      "1/1 [==============================] - 0s 67ms/step\n",
      "1/1 [==============================] - 0s 69ms/step\n",
      "1/1 [==============================] - 0s 63ms/step\n",
      "1/1 [==============================] - 0s 66ms/step\n",
      "1/1 [==============================] - 0s 62ms/step\n",
      "1/1 [==============================] - 0s 59ms/step\n",
      "1/1 [==============================] - 0s 62ms/step\n",
      "1/1 [==============================] - 0s 62ms/step\n",
      "1/1 [==============================] - 0s 61ms/step\n",
      "1/1 [==============================] - 0s 66ms/step\n",
      "1/1 [==============================] - 0s 64ms/step\n",
      "1/1 [==============================] - 0s 68ms/step\n",
      "1/1 [==============================] - 0s 63ms/step\n",
      "1/1 [==============================] - 0s 61ms/step\n",
      "1/1 [==============================] - 0s 52ms/step\n",
      "1/1 [==============================] - 0s 64ms/step\n",
      "1/1 [==============================] - 0s 61ms/step\n",
      "1/1 [==============================] - 0s 61ms/step\n",
      "1/1 [==============================] - 0s 61ms/step\n",
      "1/1 [==============================] - 0s 63ms/step\n",
      "1/1 [==============================] - 0s 60ms/step\n",
      "1/1 [==============================] - 0s 64ms/step\n",
      "1/1 [==============================] - 0s 58ms/step\n",
      "1/1 [==============================] - 0s 60ms/step\n"
     ]
    },
    {
     "data": {
      "text/plain": [
       "['1',\n",
       " '1',\n",
       " '1',\n",
       " '1',\n",
       " '1',\n",
       " '1',\n",
       " '1',\n",
       " '1',\n",
       " '1',\n",
       " '1',\n",
       " '1',\n",
       " '1',\n",
       " '1',\n",
       " '1',\n",
       " '1',\n",
       " '1',\n",
       " 'n',\n",
       " '1',\n",
       " '1',\n",
       " '1',\n",
       " 'n',\n",
       " 'q',\n",
       " 'B',\n",
       " '1',\n",
       " '1',\n",
       " 'R',\n",
       " 'N',\n",
       " 'B',\n",
       " '1',\n",
       " '1',\n",
       " '1',\n",
       " '1',\n",
       " '1',\n",
       " '1',\n",
       " '1',\n",
       " '1',\n",
       " 'B',\n",
       " 'P',\n",
       " 'Q',\n",
       " '1',\n",
       " 'p',\n",
       " '1',\n",
       " '1',\n",
       " '1',\n",
       " '1',\n",
       " 'k',\n",
       " '1',\n",
       " '1',\n",
       " '1',\n",
       " '1',\n",
       " '1',\n",
       " '1',\n",
       " 'N',\n",
       " 'N',\n",
       " '1',\n",
       " '1',\n",
       " '1',\n",
       " '1',\n",
       " '1',\n",
       " 'K',\n",
       " '1',\n",
       " '1',\n",
       " '1',\n",
       " '1']"
      ]
     },
     "execution_count": 330,
     "metadata": {},
     "output_type": "execute_result"
    }
   ],
   "source": [
    "sq = get_tiles(im_test)\n",
    "sq_arr = tile_array(sq)\n",
    "\n",
    "sq_pred = []\n",
    "lab_pred = []\n",
    "\n",
    "for i in sq_arr:\n",
    "    sq_prediction = model_1.predict(np.expand_dims(i, axis=0))\n",
    "    sq_pred.append(np.argmax(sq_prediction))\n",
    "\n",
    "    lab_predicted = le.inverse_transform([np.argmax(sq_prediction)])\n",
    "    lab_pred.append(lab_predicted[0])\n",
    "\n",
    "lab_pred"
   ]
  },
  {
   "cell_type": "code",
   "execution_count": 332,
   "id": "f6f63466",
   "metadata": {},
   "outputs": [
    {
     "name": "stdout",
     "output_type": "stream",
     "text": [
      "8/8/n3nqB1/1RNB4/4BPQ1/p4k2/4NN2/3K4 w - - 0 1\n",
      "White to play https://lichess.org/analysis/8/8/n3nqB1/1RNB4/4BPQ1/p4k2/4NN2/3K4_w_-_-_0_1 \n",
      "Black to play https://lichess.org/analysis/8/8/n3nqB1/1RNB4/4BPQ1/p4k2/4NN2/3K4_b_-_-_0_1\n"
     ]
    }
   ],
   "source": [
    "pred_board = [lab_pred[i:i+8] for i in range(0,64,8)]\n",
    "pred_board = [[' ' if i=='1' else i for i in row] for row in pred_board]\n",
    "predicted_fen = fen_from_board(pred_board)\n",
    "print(predicted_fen) # The final FEN position of the chessboard in the image\n",
    "\n",
    "link = 'https://lichess.org/analysis/'+predicted_fen\n",
    "lichess_link_white = link.replace(' ','_')\n",
    "lichess_link_black = lichess_link_white.replace('w','b')\n",
    "\n",
    "# Providing the link to Lichess website to continue the game from the position in the image\n",
    "print(f'White to play {lichess_link_white} \\nBlack to play {lichess_link_black}')"
   ]
  }
 ],
 "metadata": {
  "kernelspec": {
   "display_name": "Python 3 (ipykernel)",
   "language": "python",
   "name": "python3"
  },
  "language_info": {
   "codemirror_mode": {
    "name": "ipython",
    "version": 3
   },
   "file_extension": ".py",
   "mimetype": "text/x-python",
   "name": "python",
   "nbconvert_exporter": "python",
   "pygments_lexer": "ipython3",
   "version": "3.9.13"
  }
 },
 "nbformat": 4,
 "nbformat_minor": 5
}
